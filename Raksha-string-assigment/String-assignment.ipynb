{
 "cells": [
  {
   "cell_type": "code",
   "execution_count": 1,
   "id": "3f24603d",
   "metadata": {},
   "outputs": [
    {
     "name": "stdout",
     "output_type": "stream",
     "text": [
      "<class 'str'>\n"
     ]
    }
   ],
   "source": [
    "#Declare a string and store it in a variable. \n",
    "\n",
    "a = \"Hello World\"\n",
    "\n",
    "#Check the type and print the id of the same.\n",
    "\n",
    "print(type(a))"
   ]
  },
  {
   "cell_type": "code",
   "execution_count": null,
   "id": "1d269040",
   "metadata": {},
   "outputs": [],
   "source": [
    "#Which are valid/invalid strings\n",
    "1. 'This is Python class'\n",
    "valid/invalid - valid\n",
    "\n",
    "2. \"This is Python class\"\n",
    "valid/invalid - valid\n",
    "\n",
    "3. '''This is Python class'''\n",
    "valid/invalid - valid\n",
    "\n",
    "6. \"Learnbay provides \"Java\", \"Python\" classes\"\n",
    "valid/invalid - invalid\n",
    "\n",
    "7. \"Learnbay provides 'Java', 'Python' classes\"\n",
    "valid/invalid - valid\n",
    "\n",
    "8. \"This is Python's class\"\n",
    "valid/invalid - valid\n",
    "\n",
    "9. \"\"\"Learnbay provides \"Java\", \"Python\" classes\"\"\"\n",
    "valid/invalid - valid\n",
    "\n",
    "10. '''Learnbay provides \"Java\", \"Python\" classes'''\n",
    "valid/invalid - valid\n",
    "\n",
    "11. '''Learnbay provides\n",
    "\"Java\", \"Python\" \n",
    "classes'''\n",
    "valid/invalid - valid\n",
    "\n",
    "12. 'This is\n",
    "Python \n",
    "class'\n",
    "valid/invalid - invalid\n"
   ]
  },
  {
   "cell_type": "code",
   "execution_count": 7,
   "id": "f595bdf3",
   "metadata": {},
   "outputs": [
    {
     "name": "stdout",
     "output_type": "stream",
     "text": [
      "\n",
      "The length of my_str is 66\n",
      "\n",
      "id of my_str and my_str1 is same? - False\n",
      "\n",
      "Type of my_str is: <class 'str'>\n"
     ]
    }
   ],
   "source": [
    "#Write the code to get the output mentioned below print statement\n",
    "my_str = \"Although that way may not be obvious at first unless you're Dutch.\"\n",
    "my_str1 = \"Although that way may not be obvious at first unless you're Dutch.\"\n",
    "\n",
    "print()\n",
    "#output:- The length of my_str is 66\n",
    "print(\"The length of my_str is\", len(my_str))\n",
    "\n",
    "print()\n",
    "#output:- id of my_str and my_str1 is same? - True\n",
    "print('id of my_str and my_str1 is same? -', id(my_str) == id(my_str1))\n",
    "\n",
    "print()\n",
    "#output:- Type of my_str is: str\n",
    "print(\"Type of my_str is:\", type(my_str))"
   ]
  },
  {
   "cell_type": "code",
   "execution_count": 18,
   "id": "f61c2d56",
   "metadata": {},
   "outputs": [
    {
     "name": "stdout",
     "output_type": "stream",
     "text": [
      "The first character in my_str is: A\n",
      "The first character in my_str is: A\n",
      "The character at index 10 in my_str is:  \n",
      "The last character in my_str is: h\n",
      "The last character in my_str is: h\n",
      "The character in my_str is: 8\n"
     ]
    }
   ],
   "source": [
    "#Indexing\n",
    "my_str = \"Although 8 that way may not be obvious at first unless you're Dutch\"\n",
    "#Write the code to get the output,instructions are mentioned below print statement. use indexing\n",
    "\n",
    "#output:- The first character in my_str is: A\n",
    "#Note:- Use positive indexing\n",
    "print(\"The first character in my_str is:\",my_str[0] )\n",
    "\n",
    "#output:- The first character in my_str is: A\n",
    "#Note:- Use len() function.\n",
    "print(\"The first character in my_str is:\", my_str[len(my_str)-len(my_str)])\n",
    "\n",
    "#output:- The character at index 10 in my_str is: ' '\n",
    "#Note:- Use positive indexing\n",
    "print(\"The character at index 10 in my_str is:\", my_str[10])\n",
    "\n",
    "#output:- The last character in my_str is: h\n",
    "#Note:- Use negative indexing.\n",
    "print('The last character in my_str is:',my_str[-1] )\n",
    "\n",
    "#output:- The last character in my_str is: h\n",
    "#Note:- Use len() function.\n",
    "print('The last character in my_str is:', my_str[len(my_str)-1])\n",
    "\n",
    "#output:- The character in my_str is: 8\n",
    "#Note:- Use positive index\n",
    "for i in my_str :\n",
    "    if i.isdigit():\n",
    "        print('The character in my_str is:', i)"
   ]
  },
  {
   "cell_type": "code",
   "execution_count": 55,
   "id": "d4866136",
   "metadata": {},
   "outputs": [
    {
     "name": "stdout",
     "output_type": "stream",
     "text": [
      "Although that way may not be obvious at first unless you're Dutch.\n",
      "Although that way may not be obvious at first unless you're Dutch.\n",
      "Although that way may not be obvious at first unless you're Dutch.\n",
      "Although that way may not be obvious at first unless you're Dutch.\n",
      "\n",
      "Atog htwymyntb biu tfrtuls o'eDth\n",
      "Ahgttam tebo  r lsorDc\n",
      ".hctuD er'uoy sselnu tsrif ta suoivbo eb ton yam yaw taht hguohtlA\n",
      ".hctuD er'uoy sselnu tsrif ta suoivbo eb ton yam yaw taht hguohtl\n",
      ".cu ruysen si asovoe o a a athuhl\n",
      ".cu ruysen si asovoe o a a athuhl\n",
      "\n",
      " yaw ta\n",
      "ess you\n"
     ]
    }
   ],
   "source": [
    "#Slicing\n",
    "my_str = \"Although that way may not be obvious at first unless you're Dutch.\"\n",
    "#Write the code to get the output,instructions are mentioned below print statement. use slicing\n",
    "\n",
    "print(my_str[ : : ])\n",
    "#output:- You have sliced: Although that way may not be obvious at first unless you're Dutch.\n",
    "#Without begin, end and step\n",
    "\n",
    "\n",
    "print(my_str[0:len(my_str)])\n",
    "#output:- You have sliced: Although that way may not be obvious at first unless you're Dutch. with begin as 0 \n",
    "#end using len and without step\n",
    "\n",
    "\n",
    "print(my_str[ : :1])\n",
    "#output:- You have sliced: Although that way may not be obvious at first unless you're Dutch. without begin and \n",
    "#end but using step\n",
    "\n",
    "\n",
    "print(my_str[0:len(my_str):1])\n",
    "#output:- You have sliced: Although that way may not be obvious at first unless you're Dutch.With begin, end and step\n",
    "\n",
    "\n",
    "print(my_str[0:len(my_str):-1])\n",
    "#output:- You have sliced:   with using begin and end using postive values and step as negative values.\n",
    "#Slicing command should print empty string.\n",
    "\n",
    "\n",
    "print(my_str[0:len(my_str):2])\n",
    "#output:- You have sliced: Atog htwymyntb biu tfrtuls o'eDth\n",
    "\n",
    "\n",
    "print(my_str[0:len(my_str):3])\n",
    "#output:- You have sliced: Ahgttam tebo  r lsorDc\n",
    "\n",
    "\n",
    "print(my_str[ : :-1])\n",
    "#output:- You have sliced: .hctuD er'uoy sselnu tsrif ta suoivbo eb ton yam yaw taht hguohtlA. Use only step\n",
    "\n",
    "\n",
    "print(my_str[-1:0-len(my_str):-1])\n",
    "#output:- You have sliced: .hctuD er'uoy sselnu tsrif ta suoivbo eb ton yam yaw taht hguohtlA. Use begin end and step.\n",
    "\n",
    "\n",
    "print(my_str[ : :-2])\n",
    "#output:- You have sliced: .cu ruysen si asovoe o a a athuhl. use only step\n",
    "\n",
    "\n",
    "print(my_str[-1:0-len(my_str):-2])\n",
    "#output:- You have sliced: .cu ruysen si asovoe o a a athuhl. use begin, end and step.\n",
    "\n",
    "\n",
    "print(my_str[10:17:-1])\n",
    "#What will be the output?\n",
    "\n",
    "\n",
    "print(my_str[-49:-56:-1])\n",
    "#output:- You have sliced: yaw ta, Using begin, end and step.\n",
    "\n",
    "print(my_str[-17:-10:1])\n",
    "#output:- You have sliced: ess you. Using begin, end and step.\n"
   ]
  },
  {
   "cell_type": "code",
   "execution_count": 58,
   "id": "10ea3fcb",
   "metadata": {},
   "outputs": [],
   "source": [
    "#Basic operation on string\n",
    "str1 = 'Learnbay'\n",
    "str2 = 'Python'\n",
    "\n",
    "#Write the code to get the output,instructions are mentioned below.\n",
    "#Output is: Learnbay Python\n",
    "#print(\"output is:\", str1 + str2)\n",
    "\n",
    "\n",
    "#Error: TypeError: can only concatenate str (not \"int\") to str\n",
    "\n",
    "\n",
    "#Error: TypeError: can only concatenate str (not \"float\") to str\n",
    "\n",
    "\n",
    "\n",
    "#Find below Output\n",
    "#Output is: LearnbayLearnbayLearnbay\n",
    "\n",
    "#print(str1 * 2.3)\n",
    "#Error: TypeError: can't multiply sequence by non-int of type 'float'\n",
    "\n",
    "\n",
    "#Error: TypeError: can't multiply sequence by non-int of type 'str'\n"
   ]
  },
  {
   "cell_type": "code",
   "execution_count": 64,
   "id": "424c5292",
   "metadata": {},
   "outputs": [
    {
     "name": "stdout",
     "output_type": "stream",
     "text": [
      "True\n",
      "False\n",
      "False\n",
      "True\n",
      "True\n",
      "False\n"
     ]
    }
   ],
   "source": [
    "#Find below Output\n",
    "str1 = 'Python'\n",
    "str2 = 'Python'\n",
    "str3 = 'Python$'\n",
    "str4 = 'Python$'\n",
    "\n",
    "#print True by using identity operator between str1 and str2\n",
    "print( str1 == str2 )\n",
    "\n",
    "\n",
    "#print False by using identity operator between str1 and str3\n",
    "print( str1 == str3 )\n",
    "\n",
    "\n",
    "#print False by using identity operator between str4 and str3\n",
    "print( str3 != str4 )\n",
    "\n",
    "\n",
    "#Check if P is available in str1 and print True by using membership operator\n",
    "print( 'P' in str1 )\n",
    "\n",
    "\n",
    "#Check if $ is available in str3 and print True by using membership operator\n",
    "print( '$' in str3 )\n",
    "\n",
    "\n",
    "#Check if N is available in str3 and print False by using membership operator\n",
    "print( 'N' in str3 )\n"
   ]
  },
  {
   "cell_type": "code",
   "execution_count": 65,
   "id": "fff95c5c",
   "metadata": {},
   "outputs": [
    {
     "data": {
      "text/plain": [
       "'This is Java class'"
      ]
     },
     "execution_count": 65,
     "metadata": {},
     "output_type": "execute_result"
    }
   ],
   "source": [
    "#Complete the below code\n",
    "str1 = 'This is Python class'\n",
    "#write the code to replace 'Python' with 'Java' and you should get below error.\n",
    "#TypeError: 'str' object does not support item assignment.\n",
    "\n",
    "str1.replace('Python', 'Java')"
   ]
  },
  {
   "cell_type": "code",
   "execution_count": 70,
   "id": "efb0ad89",
   "metadata": {},
   "outputs": [
    {
     "name": "stdout",
     "output_type": "stream",
     "text": [
      "True\n",
      "True\n",
      "False\n",
      "False\n"
     ]
    }
   ],
   "source": [
    "str1 = 'A'\n",
    "str2 = 'A'\n",
    "#Compare str1 and str2 and print True using comparison operator\n",
    "print( str1 >= str2)\n",
    "\n",
    "\n",
    "#Compare str1 and str2 and print True using equality operator\n",
    "print( str1 == str2)\n",
    "\n",
    "\n",
    "#Compare str1 and str2 and print False using equality operator\n",
    "print( str1 != str2)\n",
    "\n",
    "\n",
    "#Compare str1 and str2 and print False using comparison operator\n",
    "print( str1 > str2)"
   ]
  },
  {
   "cell_type": "code",
   "execution_count": 75,
   "id": "09c1ebb9",
   "metadata": {},
   "outputs": [
    {
     "name": "stdout",
     "output_type": "stream",
     "text": [
      "True\n",
      "True\n",
      "False\n",
      "False\n"
     ]
    }
   ],
   "source": [
    "str1 = 'A'\n",
    "str2 = 'a'\n",
    "#Compare str1 and str2 and print True using comparison operator\n",
    "print( str1 <= str2 )\n",
    "\n",
    "#Compare str1 and str2 and print True using equality operator\n",
    "print( str1 != str2 )\n",
    "\n",
    "#Compare str1 and str2 and print False using equality operator\n",
    "print( str1 == str2 )\n",
    "\n",
    "#Compare str1 and str2 and print False using comparison operator\n",
    "print( str1 >= str2 )"
   ]
  },
  {
   "cell_type": "code",
   "execution_count": 78,
   "id": "00d67f3a",
   "metadata": {},
   "outputs": [
    {
     "name": "stdout",
     "output_type": "stream",
     "text": [
      "True\n",
      "True\n",
      "False\n"
     ]
    }
   ],
   "source": [
    "str1 = 'A'\n",
    "str2 = '65'\n",
    "#Compare str1 and str2 using comparison operator and it should give below error.\n",
    "#Error: TypeError: '>=' not supported between instances of 'str' and 'int'\n",
    "print( str1 >= str2)\n",
    "\n",
    "#Compare str1 and str2 and print True using equality operator\n",
    "print( str1 != str2)\n",
    "\n",
    "#Compare str1 and str2 and print False using equality operator\n",
    "print( str1 == str2)"
   ]
  },
  {
   "cell_type": "code",
   "execution_count": 80,
   "id": "1047ade7",
   "metadata": {},
   "outputs": [
    {
     "name": "stdout",
     "output_type": "stream",
     "text": [
      "True\n",
      "True\n",
      "False\n",
      "False\n"
     ]
    }
   ],
   "source": [
    "str1 = 'Python'\n",
    "str2 = 'Python'\n",
    "#Compare str1 and str2 and print True using comparison operator\n",
    "print( str1 <= str2 )\n",
    "\n",
    "#Compare str1 and str2 and print True using equality operator\n",
    "print( str1 == str2 )\n",
    "\n",
    "#Compare str1 and str2 and print False using equality operator\n",
    "print( str1 != str2 )\n",
    "\n",
    "#Compare str1 and str2 and print False using comparison operator\n",
    "print( str1 < str2 )"
   ]
  },
  {
   "cell_type": "code",
   "execution_count": 84,
   "id": "104134dc",
   "metadata": {},
   "outputs": [],
   "source": [
    "a = 'Python'\n",
    "b = ''\n",
    "\n",
    "#Apply logical opereators (and, or & not) on above string values and observe the output.\n",
    "#print( a & b )\n",
    "#print( a | b )\n",
    "#print( a ^ b )"
   ]
  },
  {
   "cell_type": "code",
   "execution_count": 88,
   "id": "2c7eba95",
   "metadata": {},
   "outputs": [],
   "source": [
    "a = ''\n",
    "b = ''\n",
    "\n",
    "#Apply logical opereators (and, or & not) on above string values and observe the output.\n",
    "#print( a & b )\n",
    "#print( a | b )\n",
    "#print( a ^ b )"
   ]
  },
  {
   "cell_type": "code",
   "execution_count": 90,
   "id": "7a4f1251",
   "metadata": {},
   "outputs": [],
   "source": [
    "a = 'Python'\n",
    "b = 'learnbay'\n",
    "\n",
    "#Apply logical opereators (and, or & not) on above string values and observe the output.\n",
    "#print( a & b )\n",
    "#print( a | b )\n",
    "#print( a ^ b )"
   ]
  },
  {
   "cell_type": "code",
   "execution_count": 108,
   "id": "382eb19a",
   "metadata": {},
   "outputs": [
    {
     "name": "stdout",
     "output_type": "stream",
     "text": [
      "7\n",
      "9\n",
      "-1\n",
      "11\n",
      "63\n",
      "63\n"
     ]
    }
   ],
   "source": [
    "my_str = \"Although 8 that way may not be obvious at first unless you're Dutch\"\n",
    "\n",
    "#Write the code to get the total count of 't' in above string. Use find() and index() method.\n",
    "num = 0\n",
    "for i in my_str :\n",
    "    if (i == \"t\"):\n",
    "        num = num + 1\n",
    "        \n",
    "print(num)\n",
    "\n",
    "#Write the code to get the index of '8' in my_str. Use find() and index() method.\n",
    "for i in range(0, len(my_str)):\n",
    "    if (my_str[i] == '8'):\n",
    "        print(i)\n",
    "    \n",
    "\n",
    "#What will be the output of below code?\n",
    "print(my_str.find('the'))\n",
    "\n",
    "\n",
    "#print(my_str.index('the'))\n",
    "\n",
    "\n",
    "print(my_str.find('t', 9, 15))\n",
    "\n",
    "\n",
    "print(my_str.rfind('u'))\n",
    "\n",
    "\n",
    "print(my_str.rindex('u'))"
   ]
  },
  {
   "cell_type": "code",
   "execution_count": 111,
   "id": "43c41467",
   "metadata": {},
   "outputs": [
    {
     "name": "stdout",
     "output_type": "stream",
     "text": [
      "Python\n",
      "Python\n",
      "Python\n"
     ]
    }
   ],
   "source": [
    "#W A P which applies strip() method if any string, which will be taken from user, starts and ends with space, or applies \n",
    "#rrstrip() method if that string only ends with space or applies lstrip() method if that string only starts with a space.\n",
    "\n",
    "#For example:-\n",
    "x1 = '    Python   '\n",
    "print(x1.strip())\n",
    "#output:- 'Python'\n",
    "\n",
    "x2 = '    Python'\n",
    "print(x2.lstrip())\n",
    "#output:- 'Python'\n",
    "\n",
    "x3 = 'Python   '\n",
    "print(x3.rstrip())\n",
    "#output:- 'Python'"
   ]
  },
  {
   "cell_type": "code",
   "execution_count": 113,
   "id": "8dc641bf",
   "metadata": {},
   "outputs": [
    {
     "name": "stdout",
     "output_type": "stream",
     "text": [
      "ALTHOUGH 8 THAT WAY MAY NOT BE OBVIOUS AT FIRST UNLESS YOU'RE DUTCH\n",
      "although 8 that way may not be obvious at first unless you're dutch\n",
      "aLTHOUGH 8 THAT WAY MAY NOT BE OBVIOUS AT FIRST UNLESS YOU'RE dUTCH\n"
     ]
    }
   ],
   "source": [
    "my_str = \"Although 8 that way may not be obvious at first unless you're Dutch\"\n",
    "\n",
    "#Write the code to convert all alphabets in my_str into upper case.\n",
    "print(my_str.upper())\n",
    "\n",
    "#Write the code to convert all alphabets in my_str into lower case.\n",
    "print(my_str.lower())\n",
    "\n",
    "#Write the code to swap the cases of all alphabets in my_str.(lower to upper and upper to lower)\n",
    "print(my_str.swapcase())"
   ]
  },
  {
   "cell_type": "code",
   "execution_count": 116,
   "id": "90218ce9",
   "metadata": {},
   "outputs": [
    {
     "name": "stdout",
     "output_type": "stream",
     "text": [
      "Enter a single characteredf\n",
      "The character is E\n",
      "Enter a stringhello there\n",
      "String is Hello There\n"
     ]
    }
   ],
   "source": [
    "#Write the code which takes one string from user and if it starts with small case letter then convert it to corresponding \n",
    "str1 = str(input(\"Enter a single character\"))\n",
    "print(\"The character is\", str1[0].upper())\n",
    "\n",
    "#capital letter otherwise if starts with capital letters then convert first character of every word in that string into capital.\n",
    "str2 = str(input('Enter a string'))\n",
    "print('String is', str2.title())\n"
   ]
  },
  {
   "cell_type": "code",
   "execution_count": null,
   "id": "3ec15d07",
   "metadata": {},
   "outputs": [],
   "source": [
    "#Take a string from user and check if it is:-\n",
    "#     1. alphanumeric\n",
    "#     2. alphabets\n",
    "#     3. digit\n",
    "#     4. all letters are in lower case\n",
    "#     5. all letters are in upper case\n",
    "#     6. in title case\n",
    "#     7. a space character\n",
    "#     8. numeric\n",
    "#     9. all number elements in string are decimal\n",
    "\n",
    "str1 = str(input('Enter a string'))\n",
    "\n",
    "print(str1.isalpha())\n",
    "print(str1.isalnum())\n",
    "print(str1.isdigit())\n",
    "print(str1.islower())\n",
    "print(str1.isupper())\n",
    "print(str1.istitle())\n",
    "print(str1.isspace())\n",
    "print(str1.isnumeric())\n",
    "print(str1.isdecimal())"
   ]
  },
  {
   "cell_type": "code",
   "execution_count": 122,
   "id": "64cbe454",
   "metadata": {},
   "outputs": [
    {
     "name": "stdout",
     "output_type": "stream",
     "text": [
      "<class 'str'>\n",
      "<class 'str'>\n",
      "<class 'str'>\n",
      "<class 'str'>\n",
      "<class 'str'>\n",
      "<class 'str'>\n",
      "<class 'str'>\n"
     ]
    }
   ],
   "source": [
    "#W A P which takes a string as an input and prints True if the string is valid identifier else returns False.\n",
    "#Sample Input:- 'abc', 'abc1', 'ab1c', '1abc', 'abc$', '_abc', 'if'\n",
    "\n",
    "a = 'abc'\n",
    "b = 'abc1'\n",
    "c = 'ab1c'\n",
    "d = '1abc'\n",
    "e = 'abc$'\n",
    "f = '_abc'\n",
    "g = 'if'\n",
    "\n",
    "print(type(a))\n",
    "print(type(b))\n",
    "print(type(c))\n",
    "print(type(d))\n",
    "print(type(e))\n",
    "print(type(f))\n",
    "print(type(g))"
   ]
  },
  {
   "cell_type": "code",
   "execution_count": null,
   "id": "997a0e2b",
   "metadata": {},
   "outputs": [],
   "source": [
    "#What will be output of below code?\n",
    "s = chr(65) + chr(97)\n",
    "print(s.isprintable()) - True\n",
    "\n",
    "s = chr(27) + chr(97)\n",
    "print(s.isprintable()) - True\n",
    "\n",
    "s = '\\n'\n",
    "print(s.isprintable()) - False\n",
    "\n",
    "s = ''\n",
    "print(s.isprintable()) - True"
   ]
  },
  {
   "cell_type": "code",
   "execution_count": null,
   "id": "f56e32e8",
   "metadata": {},
   "outputs": [],
   "source": [
    "#What will be output of below code?\n",
    "my_string = '  '\n",
    "print(my_string.isascii()) - True\n",
    "\n",
    "my_string = 'Studytonight'\n",
    "print(my_string.isascii()) - True\n",
    "\n",
    "my_string = 'Study tonight'\n",
    "print(my_string.isascii()) - True\n",
    "\n",
    "my_string = 'Studytonight@123'\n",
    "print(my_string.isascii()) - True\n",
    "\n",
    "my_string = '°'\n",
    "print(my_string.isascii()) - False\n",
    "\n",
    "my_string = 'ö'\n",
    "print(my_string.isascii()) - False"
   ]
  },
  {
   "cell_type": "code",
   "execution_count": 2,
   "id": "2667c9c9",
   "metadata": {},
   "outputs": [
    {
     "name": "stdout",
     "output_type": "stream",
     "text": [
      "The strings are equal.\n"
     ]
    }
   ],
   "source": [
    "#What will be the output of below code?\n",
    "firstString = \"der Fluß\"\n",
    "secondString = \"der Fluss\"\n",
    "\n",
    "if firstString.casefold() == secondString.casefold():\n",
    "    print('The strings are equal.')\n",
    "else:\n",
    "    print('The strings are not equal.')  #The strings are equal."
   ]
  },
  {
   "cell_type": "code",
   "execution_count": 3,
   "id": "b83b90aa",
   "metadata": {},
   "outputs": [
    {
     "name": "stdout",
     "output_type": "stream",
     "text": [
      "python  \n"
     ]
    }
   ],
   "source": [
    "#Write the code to get below output\n",
    "#O/P 1:- python** (using ljust method)\n",
    "s1 = 'python'\n",
    "print(s1.ljust)\n",
    "\n",
    "#Write the code to get below output\n",
    "#O/P 1:- **python (using rjust method)\n",
    "\n",
    "\n",
    "#Write the code to get below output\n",
    "#O/P 1:- **python** (using rjust method)\n",
    "\n",
    "###########################################################################################################"
   ]
  },
  {
   "cell_type": "code",
   "execution_count": 129,
   "id": "f315cd90",
   "metadata": {},
   "outputs": [
    {
     "data": {
      "text/plain": [
       "55"
      ]
     },
     "execution_count": 129,
     "metadata": {},
     "output_type": "execute_result"
    }
   ],
   "source": [
    "#Write a Python program to find the length of the my_str:-\n",
    "\n",
    "x1 = 'Write a Python program to find the length of the my_str'\n",
    "len(x1)\n",
    "#Output:- 55"
   ]
  },
  {
   "cell_type": "code",
   "execution_count": 130,
   "id": "211e69ad",
   "metadata": {},
   "outputs": [
    {
     "name": "stdout",
     "output_type": "stream",
     "text": [
      "9\n"
     ]
    }
   ],
   "source": [
    "#Write a Python program to find the total number of times letter 'p' is appeared in the below string:-\n",
    "    \n",
    "str1 = 'peter piper picked a peck of pickled peppers.'\n",
    "print(str1.count('p'))\n",
    "#Output:- 9\n"
   ]
  },
  {
   "cell_type": "code",
   "execution_count": 131,
   "id": "4dd54a61",
   "metadata": {},
   "outputs": [
    {
     "name": "stdout",
     "output_type": "stream",
     "text": [
      "0\n",
      "6\n",
      "8\n",
      "12\n",
      "21\n",
      "29\n",
      "37\n",
      "39\n",
      "40\n"
     ]
    }
   ],
   "source": [
    "#Write a Python Program, to print all the indexes of all occurences of letter 'p' appeared in the string:-\n",
    "    \n",
    "for i in range(0,len(str1)):\n",
    "    if (str1[i] == 'p'):\n",
    "        print(i)\n",
    "        \n",
    "#Output:- \n",
    "# 0\n",
    "# 6\n",
    "# 8\n",
    "# 12\n",
    "# 21\n",
    "# 29\n",
    "# 37\n",
    "# 39\n",
    "# 40\n"
   ]
  },
  {
   "cell_type": "code",
   "execution_count": 133,
   "id": "590f2012",
   "metadata": {},
   "outputs": [
    {
     "name": "stdout",
     "output_type": "stream",
     "text": [
      "['peter', 'piper', 'picked', 'a', 'peck', 'of', 'pickled', 'peppers.']\n"
     ]
    }
   ],
   "source": [
    "#Write a python program to find below output:-\n",
    "\n",
    "a = 'peter piper picked a peck of pickled peppers.'\n",
    "print(a.split(' '))\n",
    "#Output:- ['peter', 'piper', 'picked', 'a', 'peck', 'of', 'pickled', 'peppers.']"
   ]
  },
  {
   "cell_type": "code",
   "execution_count": 137,
   "id": "3e7daebe",
   "metadata": {},
   "outputs": [
    {
     "name": "stdout",
     "output_type": "stream",
     "text": [
      "['peter', 'piper', 'picked', 'a', 'peck', 'of', 'pickled', 'peppers.']\n",
      "peppers. pickled of peck a picked piper peter\n"
     ]
    }
   ],
   "source": [
    "#Write a python program to find below output:-\n",
    "\n",
    "str1 = 'peter piper picked a peck of pickled peppers.'\n",
    "str2 = str1.split(' ')\n",
    "print(str2)\n",
    "str2 = (str2[ : : -1])\n",
    "res = ' '.join(str2)\n",
    "print(res)\n",
    "\n",
    "#Output:- 'peppers. pickled of peck a picked piper peter'"
   ]
  },
  {
   "cell_type": "code",
   "execution_count": 138,
   "id": "a8493ed7",
   "metadata": {},
   "outputs": [
    {
     "name": "stdout",
     "output_type": "stream",
     "text": [
      ".sreppep delkcip fo kcep a dekcip repip retep\n"
     ]
    }
   ],
   "source": [
    "#Write a python program to find below output:-\n",
    "\n",
    "a = 'peter piper picked a peck of pickled peppers.'\n",
    "print(a[ : : -1])\n",
    "\n",
    "#Output:- '.sreppep delkcip fo kcep a dekcip repip retep'\n"
   ]
  },
  {
   "cell_type": "code",
   "execution_count": 7,
   "id": "816b0899",
   "metadata": {},
   "outputs": [
    {
     "name": "stdout",
     "output_type": "stream",
     "text": [
      "reteprepipdekcipakcepfodelkcip.sreppep\n"
     ]
    }
   ],
   "source": [
    "#Write a python program to find below output:-\n",
    "\n",
    "a = 'peter piper picked a peck of pickled peppers.'\n",
    "b = a.split(' ')\n",
    "c = ''\n",
    "empty = ''\n",
    "for i in range(0,len(b)):\n",
    "    c = b[i][ : :-1]\n",
    "    empty = empty + c\n",
    "print(empty)\n",
    "\n",
    "###########################################################################################################\n",
    "#Output:- 'retep repip dekcip a kcep fo delkcip .sreppep'"
   ]
  },
  {
   "cell_type": "code",
   "execution_count": 140,
   "id": "66fb315a",
   "metadata": {},
   "outputs": [
    {
     "name": "stdout",
     "output_type": "stream",
     "text": [
      "Peter Piper Picked A Peck Of Pickled Peppers.\n"
     ]
    }
   ],
   "source": [
    "#Write a python program to find below output:-\n",
    "\n",
    "a = 'peter piper picked a peck of pickled peppers.'\n",
    "print(a.title())\n",
    "\n",
    "#Output:- 'Peter Piper Picked A Peck Of Pickled Peppers.'"
   ]
  },
  {
   "cell_type": "code",
   "execution_count": 141,
   "id": "3605ea4c",
   "metadata": {},
   "outputs": [
    {
     "name": "stdout",
     "output_type": "stream",
     "text": [
      "Peter piper picked a peck of pickled peppers.\n"
     ]
    }
   ],
   "source": [
    "#Write a python program to find below output:-\n",
    "\n",
    "a = 'Peter Piper Picked A Peck Of Pickled Peppers.'\n",
    "print(a.capitalize())\n",
    "\n",
    "#Output:- 'Peter piper picked a peck of pickled peppers.'"
   ]
  },
  {
   "cell_type": "code",
   "execution_count": 145,
   "id": "935627d4",
   "metadata": {},
   "outputs": [
    {
     "name": "stdout",
     "output_type": "stream",
     "text": [
      "29\n"
     ]
    }
   ],
   "source": [
    "#Write a python program to implement index method. If sub_str is found in my_str then it will print the index\n",
    "# of first occurrence of first character of matching string in my_str:-\n",
    "\n",
    "my_str = 'Peter Piper Picked A Peck Of Pickled Peppers.'\n",
    "sub_str = 'Pickl'\n",
    "if sub_str in my_str :\n",
    "    print(my_str.find(sub_str))\n",
    "    \n",
    "else:\n",
    "    print('Not found')\n",
    "\n",
    "#Output:- 29"
   ]
  },
  {
   "cell_type": "code",
   "execution_count": 153,
   "id": "1d4c832d",
   "metadata": {},
   "outputs": [
    {
     "name": "stdout",
     "output_type": "stream",
     "text": [
      "Peter Piper Picked A Pack Of Pickled Peppers.\n"
     ]
    }
   ],
   "source": [
    "#Write a python program to implement replace method. If sub_str is found in my_str then it will replace the first \n",
    "#occurrence of sub_str with new_str else it will will print sub_str not found:-\n",
    "\n",
    "my_str = 'Peter Piper Picked A Peck Of Pickled Peppers.'\n",
    "sub = 'Peck'\n",
    "new_str = 'Pack'\n",
    "if sub_str in my_str :\n",
    "    my_str = my_str.replace(sub, new_str)\n",
    "    \n",
    "else:\n",
    "    print('Not found')\n",
    "    \n",
    "print(my_str)\n",
    "\n",
    "\n",
    "\n",
    "#Output:- 'Peter Piper Picked A Pack Of Pickled Peppers.'"
   ]
  },
  {
   "cell_type": "code",
   "execution_count": 8,
   "id": "6f560b1f",
   "metadata": {},
   "outputs": [
    {
     "name": "stdout",
     "output_type": "stream",
     "text": [
      "Peter Piper Picked A Peck Of Pickled Peppers.\n"
     ]
    }
   ],
   "source": [
    "#Write a python program to find below output (implements rjust and ljust):-\n",
    "\n",
    "str1 = 'Peter Piper Picked A Peck Of Pickled Peppers.' # sub_str = 'Peck', \n",
    "\n",
    "\n",
    "print(str1.ljust(16).rjust(16))\n",
    "#Output:- '*********************Peck********************'\n",
    "\n",
    "##################################################################"
   ]
  },
  {
   "cell_type": "code",
   "execution_count": null,
   "id": "7767a20d",
   "metadata": {},
   "outputs": [],
   "source": []
  }
 ],
 "metadata": {
  "kernelspec": {
   "display_name": "Python 3",
   "language": "python",
   "name": "python3"
  },
  "language_info": {
   "codemirror_mode": {
    "name": "ipython",
    "version": 3
   },
   "file_extension": ".py",
   "mimetype": "text/x-python",
   "name": "python",
   "nbconvert_exporter": "python",
   "pygments_lexer": "ipython3",
   "version": "3.8.8"
  }
 },
 "nbformat": 4,
 "nbformat_minor": 5
}
